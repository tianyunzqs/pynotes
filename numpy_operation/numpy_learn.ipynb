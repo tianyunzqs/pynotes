{
 "cells": [
  {
   "cell_type": "code",
   "execution_count": 2,
   "metadata": {
    "collapsed": true
   },
   "outputs": [],
   "source": [
    "import numpy as np"
   ]
  },
  {
   "cell_type": "code",
   "execution_count": 5,
   "metadata": {},
   "outputs": [
    {
     "name": "stdout",
     "output_type": "stream",
     "text": [
      "[1 2 3 4 5]\n[[ 1  2  3  4  5]\n [ 6  7  8  9 10]]\n"
     ]
    }
   ],
   "source": [
    "# 创建一维数组\n",
    "a = np.array([1, 2, 3, 4, 5])\n",
    "# 创建二维数组\n",
    "a2 = np.array([[1, 2, 3, 4, 5], [6, 7, 8, 9, 10]])\n",
    "print(a)\n",
    "print(a2)"
   ]
  },
  {
   "cell_type": "code",
   "execution_count": 6,
   "metadata": {},
   "outputs": [
    {
     "name": "stdout",
     "output_type": "stream",
     "text": [
      "[1 2 3 4 5]\n[1 4 2 5 3]\n"
     ]
    }
   ],
   "source": [
    "# 将源数组打乱顺序\n",
    "a = np.array([1, 2, 3, 4, 5])\n",
    "shuffle_indices = np.random.permutation(len(a))\n",
    "b = a[shuffle_indices]\n",
    "print(a)\n",
    "print(b)"
   ]
  },
  {
   "cell_type": "code",
   "execution_count": 11,
   "metadata": {},
   "outputs": [
    {
     "name": "stdout",
     "output_type": "stream",
     "text": [
      "[ 0.   2.5  5.   7.5 10. ]\n"
     ]
    }
   ],
   "source": [
    "# 创建等差数列\n",
    "a = np.linspace(0, 10, 5)  # 生成首位是0，末位为10，并且含有5个元素的等差数列，即公差=(10-0)/(5-1)\n",
    "print(a)"
   ]
  },
  {
   "cell_type": "code",
   "execution_count": null,
   "metadata": {},
   "outputs": [],
   "source": []
  }
 ],
 "metadata": {
  "kernelspec": {
   "display_name": "Python 2",
   "language": "python",
   "name": "python2"
  },
  "language_info": {
   "codemirror_mode": {
    "name": "ipython",
    "version": 2
   },
   "file_extension": ".py",
   "mimetype": "text/x-python",
   "name": "python",
   "nbconvert_exporter": "python",
   "pygments_lexer": "ipython2",
   "version": "2.7.6"
  }
 },
 "nbformat": 4,
 "nbformat_minor": 0
}
